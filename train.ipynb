{
 "cells": [
  {
   "cell_type": "code",
   "execution_count": 1,
   "metadata": {},
   "outputs": [
    {
     "name": "stdout",
     "output_type": "stream",
     "text": [
      "Collecting roboflow\n",
      "  Downloading roboflow-1.1.61-py3-none-any.whl (85 kB)\n",
      "\u001b[2K     \u001b[38;2;114;156;31m━━━━━━━━━━━━━━━━━━━━━━━━━━━━━━━━━━━━━━━\u001b[0m \u001b[32m85.2/85.2 KB\u001b[0m \u001b[31m351.9 kB/s\u001b[0m eta \u001b[36m0:00:00\u001b[0m1m408.2 kB/s\u001b[0m eta \u001b[36m0:00:01\u001b[0m\n",
      "\u001b[?25hRequirement already satisfied: urllib3>=1.26.6 in /home/aliasghar/workspace/Learning/olive-project/fyp-env/lib/python3.10/site-packages (from roboflow) (2.4.0)\n",
      "Requirement already satisfied: kiwisolver>=1.3.1 in /home/aliasghar/workspace/Learning/olive-project/fyp-env/lib/python3.10/site-packages (from roboflow) (1.4.8)\n",
      "Collecting opencv-python-headless==4.10.0.84\n",
      "  Downloading opencv_python_headless-4.10.0.84-cp37-abi3-manylinux_2_17_x86_64.manylinux2014_x86_64.whl (49.9 MB)\n",
      "\u001b[2K     \u001b[38;2;114;156;31m━━━━━━━━━━━━━━━━━━━━━━━━━━━━━━━━━━━━━━━\u001b[0m \u001b[32m49.9/49.9 MB\u001b[0m \u001b[31m927.0 kB/s\u001b[0m eta \u001b[36m0:00:00\u001b[0mm eta \u001b[36m0:00:01\u001b[0m36m0:00:02\u001b[0mm\n",
      "\u001b[?25hRequirement already satisfied: requests in /home/aliasghar/workspace/Learning/olive-project/fyp-env/lib/python3.10/site-packages (from roboflow) (2.32.3)\n",
      "Requirement already satisfied: matplotlib in /home/aliasghar/workspace/Learning/olive-project/fyp-env/lib/python3.10/site-packages (from roboflow) (3.10.1)\n",
      "Requirement already satisfied: PyYAML>=5.3.1 in /home/aliasghar/workspace/Learning/olive-project/fyp-env/lib/python3.10/site-packages (from roboflow) (6.0.2)\n",
      "Requirement already satisfied: certifi in /home/aliasghar/workspace/Learning/olive-project/fyp-env/lib/python3.10/site-packages (from roboflow) (2025.1.31)\n",
      "Requirement already satisfied: Pillow>=7.1.2 in /home/aliasghar/workspace/Learning/olive-project/fyp-env/lib/python3.10/site-packages (from roboflow) (10.0.1)\n",
      "Requirement already satisfied: python-dateutil in /home/aliasghar/workspace/Learning/olive-project/fyp-env/lib/python3.10/site-packages (from roboflow) (2.9.0.post0)\n",
      "Requirement already satisfied: tqdm>=4.41.0 in /home/aliasghar/workspace/Learning/olive-project/fyp-env/lib/python3.10/site-packages (from roboflow) (4.67.1)\n",
      "Collecting requests-toolbelt\n",
      "  Downloading requests_toolbelt-1.0.0-py2.py3-none-any.whl (54 kB)\n",
      "\u001b[2K     \u001b[38;2;114;156;31m━━━━━━━━━━━━━━━━━━━━━━━━━━━━━━━━━━━━━━━━\u001b[0m \u001b[32m54.5/54.5 KB\u001b[0m \u001b[31m1.1 MB/s\u001b[0m eta \u001b[36m0:00:00\u001b[0m[31m71.8 MB/s\u001b[0m eta \u001b[36m0:00:01\u001b[0m\n",
      "\u001b[?25hCollecting pillow-heif>=0.18.0\n",
      "  Downloading pillow_heif-0.22.0-cp310-cp310-manylinux_2_17_x86_64.manylinux2014_x86_64.whl (7.8 MB)\n",
      "\u001b[2K     \u001b[38;2;114;156;31m━━━━━━━━━━━━━━━━━━━━━━━━━━━━━━━━━━━━━━━━\u001b[0m \u001b[32m7.8/7.8 MB\u001b[0m \u001b[31m1.1 MB/s\u001b[0m eta \u001b[36m0:00:00\u001b[0mm eta \u001b[36m0:00:01\u001b[0m[36m0:00:01\u001b[0m0m\n",
      "\u001b[?25hCollecting filetype\n",
      "  Using cached filetype-1.2.0-py2.py3-none-any.whl (19 kB)\n",
      "Requirement already satisfied: numpy>=1.18.5 in /home/aliasghar/workspace/Learning/olive-project/fyp-env/lib/python3.10/site-packages (from roboflow) (1.24.3)\n",
      "Requirement already satisfied: six in /home/aliasghar/workspace/Learning/olive-project/fyp-env/lib/python3.10/site-packages (from roboflow) (1.17.0)\n",
      "Collecting idna==3.7\n",
      "  Downloading idna-3.7-py3-none-any.whl (66 kB)\n",
      "\u001b[2K     \u001b[38;2;114;156;31m━━━━━━━━━━━━━━━━━━━━━━━━━━━━━━━━━━━━━━━━\u001b[0m \u001b[32m66.8/66.8 KB\u001b[0m \u001b[31m2.3 MB/s\u001b[0m eta \u001b[36m0:00:00\u001b[0m\n",
      "\u001b[?25hRequirement already satisfied: cycler in /home/aliasghar/workspace/Learning/olive-project/fyp-env/lib/python3.10/site-packages (from roboflow) (0.12.1)\n",
      "Requirement already satisfied: python-dotenv in /home/aliasghar/workspace/Learning/olive-project/fyp-env/lib/python3.10/site-packages (from roboflow) (1.0.0)\n",
      "Collecting Pillow>=7.1.2\n",
      "  Downloading pillow-11.2.1-cp310-cp310-manylinux_2_28_x86_64.whl (4.6 MB)\n",
      "\u001b[2K     \u001b[38;2;114;156;31m━━━━━━━━━━━━━━━━━━━━━━━━━━━━━━━━━━━━━━━━\u001b[0m \u001b[32m4.6/4.6 MB\u001b[0m \u001b[31m2.1 MB/s\u001b[0m eta \u001b[36m0:00:00\u001b[0mm eta \u001b[36m0:00:01\u001b[0m[36m0:00:01\u001b[0m\n",
      "\u001b[?25hRequirement already satisfied: contourpy>=1.0.1 in /home/aliasghar/workspace/Learning/olive-project/fyp-env/lib/python3.10/site-packages (from matplotlib->roboflow) (1.3.1)\n",
      "Requirement already satisfied: fonttools>=4.22.0 in /home/aliasghar/workspace/Learning/olive-project/fyp-env/lib/python3.10/site-packages (from matplotlib->roboflow) (4.57.0)\n",
      "Requirement already satisfied: packaging>=20.0 in /home/aliasghar/workspace/Learning/olive-project/fyp-env/lib/python3.10/site-packages (from matplotlib->roboflow) (24.2)\n",
      "Requirement already satisfied: pyparsing>=2.3.1 in /home/aliasghar/workspace/Learning/olive-project/fyp-env/lib/python3.10/site-packages (from matplotlib->roboflow) (3.2.3)\n",
      "Requirement already satisfied: charset-normalizer<4,>=2 in /home/aliasghar/workspace/Learning/olive-project/fyp-env/lib/python3.10/site-packages (from requests->roboflow) (3.4.1)\n",
      "Installing collected packages: filetype, Pillow, opencv-python-headless, idna, pillow-heif, requests-toolbelt, roboflow\n",
      "  Attempting uninstall: Pillow\n",
      "    Found existing installation: Pillow 10.0.1\n",
      "    Uninstalling Pillow-10.0.1:\n",
      "      Successfully uninstalled Pillow-10.0.1\n",
      "  Attempting uninstall: idna\n",
      "    Found existing installation: idna 3.10\n",
      "    Uninstalling idna-3.10:\n",
      "      Successfully uninstalled idna-3.10\n",
      "Successfully installed Pillow-11.2.1 filetype-1.2.0 idna-3.7 opencv-python-headless-4.10.0.84 pillow-heif-0.22.0 requests-toolbelt-1.0.0 roboflow-1.1.61\n"
     ]
    }
   ],
   "source": [
    "!pip install roboflow"
   ]
  },
  {
   "cell_type": "markdown",
   "metadata": {},
   "source": [
    "# LEAVES DETECTION DATA"
   ]
  },
  {
   "cell_type": "code",
   "execution_count": 2,
   "metadata": {},
   "outputs": [
    {
     "name": "stdout",
     "output_type": "stream",
     "text": [
      "loading Roboflow workspace...\n",
      "loading Roboflow project...\n"
     ]
    },
    {
     "name": "stderr",
     "output_type": "stream",
     "text": [
      "Downloading Dataset Version Zip in olive-leaf-detection-1 to yolov8:: 100%|██████████| 4632/4632 [00:02<00:00, 1552.67it/s]"
     ]
    },
    {
     "name": "stdout",
     "output_type": "stream",
     "text": [
      "\n"
     ]
    },
    {
     "name": "stderr",
     "output_type": "stream",
     "text": [
      "\n",
      "Extracting Dataset Version Zip to olive-leaf-detection-1 in yolov8:: 100%|██████████| 226/226 [00:00<00:00, 12030.42it/s]\n"
     ]
    }
   ],
   "source": [
    "from roboflow import Roboflow\n",
    "rf = Roboflow(api_key=\"HbgTi4bT1NLHJqIVAysZ\")\n",
    "project = rf.workspace(\"aliasghar\").project(\"olive-leaf-detection-cfsn3\")\n",
    "version = project.version(1)\n",
    "dataset = version.download(\"yolov8\")\n",
    "                "
   ]
  },
  {
   "cell_type": "markdown",
   "metadata": {},
   "source": [
    "# FRUIT DETECTION DATA"
   ]
  },
  {
   "cell_type": "code",
   "execution_count": null,
   "metadata": {},
   "outputs": [
    {
     "name": "stdout",
     "output_type": "stream",
     "text": [
      "loading Roboflow workspace...\n",
      "loading Roboflow project...\n"
     ]
    },
    {
     "name": "stderr",
     "output_type": "stream",
     "text": [
      "Downloading Dataset Version Zip in Olive-disease-detection-1 to yolov8::  85%|████████▌ | 20812/24396 [00:12<00:03, 1096.66it/s]"
     ]
    }
   ],
   "source": [
    "from roboflow import Roboflow\n",
    "rf = Roboflow(api_key=\"HbgTi4bT1NLHJqIVAysZ\")\n",
    "project = rf.workspace(\"aliasghar\").project(\"olive-disease-detection-jzzvy\")\n",
    "version = project.version(1)\n",
    "dataset = version.download(\"yolov8\")\n",
    "                "
   ]
  },
  {
   "cell_type": "markdown",
   "metadata": {},
   "source": [
    "# LEAVES CLASSIFICATION DATA"
   ]
  },
  {
   "cell_type": "code",
   "execution_count": null,
   "metadata": {},
   "outputs": [],
   "source": [
    "from roboflow import Roboflow\n",
    "rf = Roboflow(api_key=\"HbgTi4bT1NLHJqIVAysZ\")\n",
    "project = rf.workspace(\"aliasghar\").project(\"oliver-b030w\")\n",
    "version = project.version(1)\n",
    "dataset = version.download(\"folder\")\n",
    "                "
   ]
  },
  {
   "cell_type": "markdown",
   "metadata": {},
   "source": [
    "# TRAINING DETECTION"
   ]
  },
  {
   "cell_type": "code",
   "execution_count": null,
   "metadata": {},
   "outputs": [],
   "source": [
    "from ultralytics import YOLO\n",
    "\n",
    "# Load a pretrained model\n",
    "model = YOLO('yolov8m.pt')  # or any other size (s, m, l, x)\n",
    "model.to('cuda:3')\n",
    "\n",
    "# Train with explicitly specified default hyperparameters\n",
    "model.train(\n",
    "    # Dataset parameters\n",
    "    data='Olive-disease-detection-1/data.yaml',  # PROVIDE THE PATH TO SPECIFFIC data.yaml here\n",
    "    imgsz=640,       # default: 640\n",
    "    \n",
    "    # Training parameters\n",
    "    epochs=100,      # your setting: 100\n",
    "    batch=128,       # your setting: 128\n",
    "    patience=50,     # your setting: 50\n",
    "    \n",
    "    # Optimizer parameters\n",
    "    lr0=0.01,        # default: 0.01\n",
    "    lrf=0.01,        # default: 0.01\n",
    "    momentum=0.937,  # default: 0.937\n",
    "    weight_decay=0.0005,  # default: 0.0005\n",
    "    warmup_epochs=3.0,    # default: 3.0\n",
    "    warmup_momentum=0.8,  # default: 0.8\n",
    "    warmup_bias_lr=0.1,   # default: 0.1\n",
    "    \n",
    "    # Augmentation parameters\n",
    "    hsv_h=0.015,     # default: 0.015\n",
    "    hsv_s=0.7,       # default: 0.7\n",
    "    hsv_v=0.4,       # default: 0.4\n",
    "    degrees=0.0,     # default: 0.0\n",
    "    translate=0.1,   # default: 0.1\n",
    "    scale=0.5,       # default: 0.5\n",
    "    fliplr=0.5,      # default: 0.5\n",
    "    flipud=0.0,      # default: 0.0\n",
    "    mosaic=1.0,      # default: 1.0\n",
    "    mixup=0.0,       # default: 0.0\n",
    "    \n",
    "    # Loss function parameters\n",
    "    box=7.5,         # default: 7.5\n",
    "    cls=0.5,         # default: 0.5\n",
    "    dfl=1.5,         # default: 1.5\n",
    "    \n",
    "    # Other parameters\n",
    "    workers=8,       # default: 8\n",
    "    cos_lr=True,     # default: True\n",
    "    close_mosaic=10, # default: 10\n",
    "    amp=True,        # default: True\n",
    "    fraction=1.0,    # default: 1.0\n",
    "    seed=0,          # default: 0\n",
    "    save=True,       # default: True\n",
    "    cache=False,     # default: False\n",
    ")"
   ]
  },
  {
   "cell_type": "markdown",
   "metadata": {},
   "source": [
    "# TRAINING CLASSIFICATION"
   ]
  },
  {
   "cell_type": "code",
   "execution_count": null,
   "metadata": {},
   "outputs": [],
   "source": [
    "from ultralytics import YOLO\n",
    "\n",
    "# Load a pretrained model\n",
    "model = YOLO('yolov8m-cls.pt')  # or any other size (s, m, l, x)\n",
    "model.to('cuda:1')\n",
    "# Train using the Roboflow-exported data.yaml\n",
    "model.train(\n",
    "    data='Oliver-1',  # Use this path directly\n",
    "    task='classify',\n",
    "    imgsz=640,\n",
    "\n",
    "    # Training parameters\n",
    "    epochs=100,      # your setting: 100\n",
    "    batch=128,       # your setting: 128\n",
    "    patience=50,     # your setting: 50\n",
    "    \n",
    "    # Optimizer parameters\n",
    "    lr0=0.01,        # default: 0.01\n",
    "    lrf=0.01,        # default: 0.01\n",
    "    momentum=0.937,  # default: 0.937\n",
    "    weight_decay=0.0005,  # default: 0.0005\n",
    "    warmup_epochs=3.0,    # default: 3.0\n",
    "    warmup_momentum=0.8,  # default: 0.8\n",
    "    warmup_bias_lr=0.1,   # default: 0.1\n",
    "    \n",
    "    # Augmentation parameters\n",
    "    hsv_h=0.015,     # default: 0.015\n",
    "    hsv_s=0.7,       # default: 0.7\n",
    "    hsv_v=0.4,       # default: 0.4\n",
    "    degrees=0.0,     # default: 0.0\n",
    "    translate=0.1,   # default: 0.1\n",
    "    scale=0.5,       # default: 0.5\n",
    "    fliplr=0.5,      # default: 0.5\n",
    "    flipud=0.0,      # default: 0.0\n",
    "    mosaic=1.0,      # default: 1.0\n",
    "    mixup=0.0,       # default: 0.0\n",
    "    \n",
    "    # Loss function parameters\n",
    "    box=7.5,         # default: 7.5\n",
    "    cls=0.5,         # default: 0.5\n",
    "    dfl=1.5,         # default: 1.5\n",
    "    \n",
    "    # Other parameters\n",
    "    workers=8,       # default: 8\n",
    "    cos_lr=True,     # default: True\n",
    "    close_mosaic=10, # default: 10\n",
    "    amp=True,        # default: True\n",
    "    fraction=1.0,    # default: 1.0\n",
    "    seed=0,          # default: 0\n",
    "    save=True,       # default: True\n",
    "    cache=False,     # default: False\n",
    ")"
   ]
  }
 ],
 "metadata": {
  "kernelspec": {
   "display_name": "fyp-env",
   "language": "python",
   "name": "python3"
  },
  "language_info": {
   "codemirror_mode": {
    "name": "ipython",
    "version": 3
   },
   "file_extension": ".py",
   "mimetype": "text/x-python",
   "name": "python",
   "nbconvert_exporter": "python",
   "pygments_lexer": "ipython3",
   "version": "3.10.12"
  }
 },
 "nbformat": 4,
 "nbformat_minor": 2
}
